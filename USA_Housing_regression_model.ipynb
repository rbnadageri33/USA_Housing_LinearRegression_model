{
 "cells": [
  {
   "cell_type": "code",
   "execution_count": 1,
   "metadata": {},
   "outputs": [],
   "source": [
    "import pandas as pd\n",
    "import numpy as np\n",
    "from pandas import Series, DataFrame"
   ]
  },
  {
   "cell_type": "code",
   "execution_count": null,
   "id": "d0b163d9",
   "metadata": {},
   "outputs": [],
   "source": [
    "df1 = Series(np.arange(5),index=list('abcde'))"
   ]
  },
  {
   "cell_type": "code",
   "execution_count": null,
   "id": "ebe31289",
   "metadata": {},
   "outputs": [],
   "source": [
    "df2 = Series([5,np.nan,10,15,np.nan],index=list('abcde'))"
   ]
  },
  {
   "cell_type": "code",
   "execution_count": 4,
   "id": "e4e8fdfb",
   "metadata": {},
   "outputs": [],
   "source": [
    "data = ('a,b,c\\n'\n",
    "        '1,2,3\\n'\n",
    "       '4,5,6\\n'\n",
    "        '7,8,9')"
   ]
  },
  {
   "cell_type": "code",
   "execution_count": 7,
   "id": "66dd81aa",
   "metadata": {},
   "outputs": [],
   "source": [
    "from io import StringIO"
   ]
  },
  {
   "cell_type": "code",
   "execution_count": 30,
   "id": "f4a96bed",
   "metadata": {},
   "outputs": [
    {
     "ename": "NameError",
     "evalue": "name 'StringIO' is not defined",
     "output_type": "error",
     "traceback": [
      "\u001b[1;31m---------------------------------------------------------------------------\u001b[0m",
      "\u001b[1;31mNameError\u001b[0m                                 Traceback (most recent call last)",
      "\u001b[1;32mc:\\Users\\Ravi Nadageri\\Desktop\\Py_Practice _file\\.ipynb_checkpoints\\reference.ipynb Cell 6\u001b[0m in \u001b[0;36m<cell line: 1>\u001b[1;34m()\u001b[0m\n\u001b[1;32m----> <a href='vscode-notebook-cell:/c%3A/Users/Ravi%20Nadageri/Desktop/Py_Practice%20_file/.ipynb_checkpoints/reference.ipynb#W5sZmlsZQ%3D%3D?line=0'>1</a>\u001b[0m df \u001b[39m=\u001b[39m pd\u001b[39m.\u001b[39mread_csv(StringIO(data))\n",
      "\u001b[1;31mNameError\u001b[0m: name 'StringIO' is not defined"
     ]
    }
   ],
   "source": [
    "df = pd.read_csv(StringIO(data))"
   ]
  },
  {
   "cell_type": "code",
   "execution_count": 12,
   "id": "b0ec4225",
   "metadata": {},
   "outputs": [
    {
     "data": {
      "text/plain": [
       "4"
      ]
     },
     "execution_count": 12,
     "metadata": {},
     "output_type": "execute_result"
    }
   ],
   "source": [
    "df['a'][1]"
   ]
  },
  {
   "cell_type": "code",
   "execution_count": 8,
   "id": "e4a3d6b0",
   "metadata": {},
   "outputs": [
    {
     "data": {
      "text/plain": [
       "[('a', 'a'), ('b', 'b'), ('c', 'c')]"
      ]
     },
     "execution_count": 8,
     "metadata": {},
     "output_type": "execute_result"
    }
   ],
   "source": [
    "m = ['a','b','c']\n",
    "n = ['a','b','c']\n",
    "\n",
    "list(zip(m,n))"
   ]
  },
  {
   "cell_type": "code",
   "execution_count": 68,
   "id": "8423f341",
   "metadata": {},
   "outputs": [],
   "source": [
    "data = '{\"IR(h)\": 322.99, \"WS10m\": 2.3, \"WD10m\": 334.0, \"SP\": 99573.0}'"
   ]
  },
  {
   "cell_type": "code",
   "execution_count": 69,
   "id": "c6e8e309",
   "metadata": {},
   "outputs": [],
   "source": [
    "dft = pd.read_csv(\"C:\\\\Users\\\\Ravi Nadageri\\\\Downloads\\\\my_data.txt\",sep=',')"
   ]
  },
  {
   "cell_type": "code",
   "execution_count": 73,
   "id": "66bbbb2d",
   "metadata": {},
   "outputs": [],
   "source": [
    "df = pd.DataFrame(dft)"
   ]
  },
  {
   "cell_type": "code",
   "execution_count": 67,
   "id": "4397418e",
   "metadata": {},
   "outputs": [],
   "source": [
    "import json"
   ]
  },
  {
   "cell_type": "code",
   "execution_count": 35,
   "id": "abf9ae2e",
   "metadata": {},
   "outputs": [
    {
     "name": "stdout",
     "output_type": "stream",
     "text": [
      "2023-04-01 00:00:00\n"
     ]
    },
    {
     "data": {
      "text/plain": [
       "30"
      ]
     },
     "execution_count": 35,
     "metadata": {},
     "output_type": "execute_result"
    }
   ],
   "source": [
    "from datetime import datetime\n",
    "date = datetime(2023,4,1)\n",
    "print(date)\n",
    "number_of_days = (datetime(2023,4+1,2-1) -date).days\n",
    "number_of_days"
   ]
  },
  {
   "cell_type": "code",
   "execution_count": 31,
   "id": "bd2f8c4a",
   "metadata": {},
   "outputs": [
    {
     "data": {
      "text/plain": [
       "1"
      ]
     },
     "execution_count": 31,
     "metadata": {},
     "output_type": "execute_result"
    }
   ],
   "source": [
    "month_days=date.day\n",
    "month_days"
   ]
  },
  {
   "cell_type": "code",
   "execution_count": null,
   "id": "5defe0a0",
   "metadata": {},
   "outputs": [],
   "source": []
  },
  {
   "cell_type": "code",
   "execution_count": null,
   "id": "689b171b",
   "metadata": {},
   "outputs": [],
   "source": []
  }
 ],
 "metadata": {
  "kernelspec": {
   "display_name": "Python 3",
   "language": "python",
   "name": "python3"
  },
  "language_info": {
   "codemirror_mode": {
    "name": "ipython",
    "version": 3
   },
   "file_extension": ".py",
   "mimetype": "text/x-python",
   "name": "python",
   "nbconvert_exporter": "python",
   "pygments_lexer": "ipython3",
   "version": "3.10.6"
  },
  "vscode": {
   "interpreter": {
    "hash": "a79c033472556955bf7bc972dadfc28751fe93ccf05084c8e6ce1930f995b37a"
   }
  }
 },
 "nbformat": 4,
 "nbformat_minor": 5
}
